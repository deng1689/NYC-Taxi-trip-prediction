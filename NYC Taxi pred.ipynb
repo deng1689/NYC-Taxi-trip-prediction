{
 "cells": [
  {
   "cell_type": "code",
   "execution_count": 1,
   "metadata": {},
   "outputs": [],
   "source": [
    "import pandas as pd\n",
    "import numpy as np\n",
    "import matplotlib.pyplot as plt\n",
    "%matplotlib inline\n",
    "import datetime as dt\n",
    "\n",
    "from sklearn.model_selection import train_test_split\n",
    "from sklearn.linear_model import LinearRegression\n",
    "from sklearn.tree import DecisionTreeRegressor\n",
    "from sklearn.linear_model import Ridge, Lasso\n",
    "from sklearn.model_selection import KFold\n",
    "from sklearn.neighbors import KNeighborsRegressor\n",
    "\n",
    "import warnings \n",
    "warnings.filterwarnings('ignore')"
   ]
  },
  {
   "cell_type": "code",
   "execution_count": 2,
   "metadata": {},
   "outputs": [],
   "source": [
    "df=pd.read_csv(\"nyc_taxi_trip_duration.csv\")"
   ]
  },
  {
   "cell_type": "code",
   "execution_count": 3,
   "metadata": {},
   "outputs": [
    {
     "data": {
      "text/html": [
       "<div>\n",
       "<style scoped>\n",
       "    .dataframe tbody tr th:only-of-type {\n",
       "        vertical-align: middle;\n",
       "    }\n",
       "\n",
       "    .dataframe tbody tr th {\n",
       "        vertical-align: top;\n",
       "    }\n",
       "\n",
       "    .dataframe thead th {\n",
       "        text-align: right;\n",
       "    }\n",
       "</style>\n",
       "<table border=\"1\" class=\"dataframe\">\n",
       "  <thead>\n",
       "    <tr style=\"text-align: right;\">\n",
       "      <th></th>\n",
       "      <th>id</th>\n",
       "      <th>vendor_id</th>\n",
       "      <th>pickup_datetime</th>\n",
       "      <th>dropoff_datetime</th>\n",
       "      <th>passenger_count</th>\n",
       "      <th>pickup_longitude</th>\n",
       "      <th>pickup_latitude</th>\n",
       "      <th>dropoff_longitude</th>\n",
       "      <th>dropoff_latitude</th>\n",
       "      <th>store_and_fwd_flag</th>\n",
       "      <th>trip_duration</th>\n",
       "    </tr>\n",
       "  </thead>\n",
       "  <tbody>\n",
       "    <tr>\n",
       "      <th>0</th>\n",
       "      <td>id1080784</td>\n",
       "      <td>2</td>\n",
       "      <td>2016-02-29 16:40:21</td>\n",
       "      <td>2016-02-29 16:47:01</td>\n",
       "      <td>1</td>\n",
       "      <td>-73.953918</td>\n",
       "      <td>40.778873</td>\n",
       "      <td>-73.963875</td>\n",
       "      <td>40.771164</td>\n",
       "      <td>N</td>\n",
       "      <td>400</td>\n",
       "    </tr>\n",
       "    <tr>\n",
       "      <th>1</th>\n",
       "      <td>id0889885</td>\n",
       "      <td>1</td>\n",
       "      <td>2016-03-11 23:35:37</td>\n",
       "      <td>2016-03-11 23:53:57</td>\n",
       "      <td>2</td>\n",
       "      <td>-73.988312</td>\n",
       "      <td>40.731743</td>\n",
       "      <td>-73.994751</td>\n",
       "      <td>40.694931</td>\n",
       "      <td>N</td>\n",
       "      <td>1100</td>\n",
       "    </tr>\n",
       "    <tr>\n",
       "      <th>2</th>\n",
       "      <td>id0857912</td>\n",
       "      <td>2</td>\n",
       "      <td>2016-02-21 17:59:33</td>\n",
       "      <td>2016-02-21 18:26:48</td>\n",
       "      <td>2</td>\n",
       "      <td>-73.997314</td>\n",
       "      <td>40.721458</td>\n",
       "      <td>-73.948029</td>\n",
       "      <td>40.774918</td>\n",
       "      <td>N</td>\n",
       "      <td>1635</td>\n",
       "    </tr>\n",
       "    <tr>\n",
       "      <th>3</th>\n",
       "      <td>id3744273</td>\n",
       "      <td>2</td>\n",
       "      <td>2016-01-05 09:44:31</td>\n",
       "      <td>2016-01-05 10:03:32</td>\n",
       "      <td>6</td>\n",
       "      <td>-73.961670</td>\n",
       "      <td>40.759720</td>\n",
       "      <td>-73.956779</td>\n",
       "      <td>40.780628</td>\n",
       "      <td>N</td>\n",
       "      <td>1141</td>\n",
       "    </tr>\n",
       "    <tr>\n",
       "      <th>4</th>\n",
       "      <td>id0232939</td>\n",
       "      <td>1</td>\n",
       "      <td>2016-02-17 06:42:23</td>\n",
       "      <td>2016-02-17 06:56:31</td>\n",
       "      <td>1</td>\n",
       "      <td>-74.017120</td>\n",
       "      <td>40.708469</td>\n",
       "      <td>-73.988182</td>\n",
       "      <td>40.740631</td>\n",
       "      <td>N</td>\n",
       "      <td>848</td>\n",
       "    </tr>\n",
       "  </tbody>\n",
       "</table>\n",
       "</div>"
      ],
      "text/plain": [
       "          id  vendor_id      pickup_datetime     dropoff_datetime  \\\n",
       "0  id1080784          2  2016-02-29 16:40:21  2016-02-29 16:47:01   \n",
       "1  id0889885          1  2016-03-11 23:35:37  2016-03-11 23:53:57   \n",
       "2  id0857912          2  2016-02-21 17:59:33  2016-02-21 18:26:48   \n",
       "3  id3744273          2  2016-01-05 09:44:31  2016-01-05 10:03:32   \n",
       "4  id0232939          1  2016-02-17 06:42:23  2016-02-17 06:56:31   \n",
       "\n",
       "   passenger_count  pickup_longitude  pickup_latitude  dropoff_longitude  \\\n",
       "0                1        -73.953918        40.778873         -73.963875   \n",
       "1                2        -73.988312        40.731743         -73.994751   \n",
       "2                2        -73.997314        40.721458         -73.948029   \n",
       "3                6        -73.961670        40.759720         -73.956779   \n",
       "4                1        -74.017120        40.708469         -73.988182   \n",
       "\n",
       "   dropoff_latitude store_and_fwd_flag  trip_duration  \n",
       "0         40.771164                  N            400  \n",
       "1         40.694931                  N           1100  \n",
       "2         40.774918                  N           1635  \n",
       "3         40.780628                  N           1141  \n",
       "4         40.740631                  N            848  "
      ]
     },
     "execution_count": 3,
     "metadata": {},
     "output_type": "execute_result"
    }
   ],
   "source": [
    "df.head()"
   ]
  },
  {
   "cell_type": "code",
   "execution_count": 4,
   "metadata": {},
   "outputs": [],
   "source": [
    "df['pickup_datetime'] = pd.to_datetime(df['pickup_datetime'])\n",
    "df['dropoff_datetime'] = pd.to_datetime(df['dropoff_datetime'])"
   ]
  },
  {
   "cell_type": "code",
   "execution_count": 5,
   "metadata": {},
   "outputs": [],
   "source": [
    "df['pickup_hour'] = df['pickup_datetime'].dt.hour\n",
    "df['pickup_day'] = df['pickup_datetime'].dt.dayofweek\n",
    "df['dropoff_hour'] = df['dropoff_datetime'].dt.hour\n",
    "df['dropoff_day'] = df['dropoff_datetime'].dt.dayofweek\n",
    "df['pickup_month']=df['pickup_datetime'].dt.month\n",
    "df['dropoff_month']=df['dropoff_datetime'].dt.month\n",
    "df['pickup_location'] = df[['pickup_latitude', 'pickup_longitude']].apply(tuple, axis=1)\n",
    "df['dropoff_location'] = df[['dropoff_latitude', 'dropoff_longitude']].apply(tuple, axis=1)"
   ]
  },
  {
   "cell_type": "code",
   "execution_count": 6,
   "metadata": {},
   "outputs": [],
   "source": [
    "df_y=np.log1p(df['trip_duration'])"
   ]
  },
  {
   "cell_type": "code",
   "execution_count": 7,
   "metadata": {},
   "outputs": [],
   "source": [
    "df['store_and_fwd_flag']=df['store_and_fwd_flag'].apply(lambda store_and_fwd_flag:1 if store_and_fwd_flag=='Y' else 0)"
   ]
  },
  {
   "cell_type": "code",
   "execution_count": 8,
   "metadata": {},
   "outputs": [],
   "source": [
    "from haversine import haversine"
   ]
  },
  {
   "cell_type": "code",
   "execution_count": 9,
   "metadata": {},
   "outputs": [],
   "source": [
    "df['distance_km'] = df.apply(lambda df: haversine(df['pickup_location'], df['dropoff_location']), axis=1)"
   ]
  },
  {
   "cell_type": "code",
   "execution_count": 10,
   "metadata": {},
   "outputs": [],
   "source": [
    "df['vendor_id']=df['vendor_id']-1"
   ]
  },
  {
   "cell_type": "code",
   "execution_count": 11,
   "metadata": {},
   "outputs": [
    {
     "data": {
      "text/plain": [
       "id                            object\n",
       "vendor_id                      int64\n",
       "pickup_datetime       datetime64[ns]\n",
       "dropoff_datetime      datetime64[ns]\n",
       "passenger_count                int64\n",
       "pickup_longitude             float64\n",
       "pickup_latitude              float64\n",
       "dropoff_longitude            float64\n",
       "dropoff_latitude             float64\n",
       "store_and_fwd_flag             int64\n",
       "trip_duration                  int64\n",
       "pickup_hour                    int64\n",
       "pickup_day                     int64\n",
       "dropoff_hour                   int64\n",
       "dropoff_day                    int64\n",
       "pickup_month                   int64\n",
       "dropoff_month                  int64\n",
       "pickup_location               object\n",
       "dropoff_location              object\n",
       "distance_km                  float64\n",
       "dtype: object"
      ]
     },
     "execution_count": 11,
     "metadata": {},
     "output_type": "execute_result"
    }
   ],
   "source": [
    "df.dtypes"
   ]
  },
  {
   "cell_type": "code",
   "execution_count": 12,
   "metadata": {},
   "outputs": [],
   "source": [
    "df = df.drop(['id','pickup_datetime','dropoff_datetime','store_and_fwd_flag','trip_duration','pickup_location','dropoff_location'], axis=1)"
   ]
  },
  {
   "cell_type": "code",
   "execution_count": 13,
   "metadata": {},
   "outputs": [],
   "source": [
    "from math import sqrt"
   ]
  },
  {
   "cell_type": "code",
   "execution_count": 14,
   "metadata": {},
   "outputs": [],
   "source": [
    "from sklearn.metrics import mean_squared_error"
   ]
  },
  {
   "cell_type": "code",
   "execution_count": 15,
   "metadata": {},
   "outputs": [],
   "source": [
    "def cv_score(ml_model,rstate=12,cols=df.columns):\n",
    "    i=1\n",
    "    cv_scores=[]\n",
    "    df1=df.copy()\n",
    "    df1=df[cols]\n",
    "    \n",
    "    kf=KFold(n_splits=5,random_state=rstate,shuffle=True)\n",
    "    for train_index,test_index in kf.split(df1,df_y):\n",
    "        print('\\n{} of kfold {}'.format(i,kf.n_splits))\n",
    "        xtr,xvl = df1.loc[train_index].values,df1.loc[test_index].values\n",
    "        ytr,yvl = df_y[train_index].values,df_y[test_index].values\n",
    "        \n",
    "        model=ml_model\n",
    "        model.fit(xtr,ytr)\n",
    "        train_val = model.predict(xtr)\n",
    "        pred_val = model.predict(xvl)\n",
    "        rmse_score_train = sqrt(mean_squared_error(ytr,train_val))\n",
    "        rmse_score = sqrt(mean_squared_error(yvl,pred_val))\n",
    "        suffix = \"\"\n",
    "        msg = \"\"\n",
    "        msg += \"Train RMSE: {:.5f}\".format(rmse_score_train)\n",
    "        msg += \"Valid RMSE: {:.5f}\".format(rmse_score)\n",
    "        print(\"{}\".format(msg))\n",
    "        \n",
    "        cv_scores.append(rmse_score)\n",
    "        i+=1\n",
    "    return cv_scores    "
   ]
  },
  {
   "cell_type": "code",
   "execution_count": 16,
   "metadata": {},
   "outputs": [],
   "source": [
    "from sklearn.ensemble import RandomForestRegressor"
   ]
  },
  {
   "cell_type": "code",
   "execution_count": 17,
   "metadata": {},
   "outputs": [
    {
     "name": "stdout",
     "output_type": "stream",
     "text": [
      "\n",
      "1 of kfold 5\n",
      "Train RMSE: 0.41956Valid RMSE: 0.42859\n",
      "\n",
      "2 of kfold 5\n",
      "Train RMSE: 0.41844Valid RMSE: 0.43250\n",
      "\n",
      "3 of kfold 5\n",
      "Train RMSE: 0.41774Valid RMSE: 0.43665\n",
      "\n",
      "4 of kfold 5\n",
      "Train RMSE: 0.41894Valid RMSE: 0.43122\n",
      "\n",
      "5 of kfold 5\n",
      "Train RMSE: 0.41891Valid RMSE: 0.43199\n"
     ]
    }
   ],
   "source": [
    "rf_params = {'random_state':0, 'n_estimators':20, 'max_depth':11,'n_jobs':-1, 'min_samples_split':43}\n",
    "rf_scores = cv_score(RandomForestRegressor(**rf_params))"
   ]
  },
  {
   "cell_type": "code",
   "execution_count": 18,
   "metadata": {},
   "outputs": [],
   "source": [
    "import xgboost as xgb"
   ]
  },
  {
   "cell_type": "code",
   "execution_count": 19,
   "metadata": {},
   "outputs": [],
   "source": [
    "xtrain, xtest, ytrain, ytest = train_test_split(df,df_y,test_size=1/3,random_state=0)"
   ]
  },
  {
   "cell_type": "code",
   "execution_count": 20,
   "metadata": {},
   "outputs": [],
   "source": [
    "dtrain = xgb.DMatrix(xtrain, label=ytrain)\n",
    "dvalid = xgb.DMatrix(xtest, label=ytest)\n",
    "\n",
    "watchlist = [(dtrain,'train'),(dvalid,'valid')]"
   ]
  },
  {
   "cell_type": "code",
   "execution_count": 21,
   "metadata": {},
   "outputs": [
    {
     "name": "stdout",
     "output_type": "stream",
     "text": [
      "[0]\ttrain-rmse:5.72448\tvalid-rmse:5.72162\n",
      "Multiple eval metrics have been passed: 'valid-rmse' will be used for early stopping.\n",
      "\n",
      "Will train until valid-rmse hasn't improved in 50 rounds.\n",
      "[20]\ttrain-rmse:2.10261\tvalid-rmse:2.10134\n",
      "[40]\ttrain-rmse:0.86874\tvalid-rmse:0.86948\n",
      "[60]\ttrain-rmse:0.520427\tvalid-rmse:0.523417\n",
      "[80]\ttrain-rmse:0.447218\tvalid-rmse:0.451352\n",
      "[100]\ttrain-rmse:0.428905\tvalid-rmse:0.433545\n",
      "[120]\ttrain-rmse:0.421354\tvalid-rmse:0.426417\n",
      "[140]\ttrain-rmse:0.415947\tvalid-rmse:0.421266\n",
      "[160]\ttrain-rmse:0.411785\tvalid-rmse:0.417518\n",
      "[180]\ttrain-rmse:0.4085\tvalid-rmse:0.41469\n",
      "[200]\ttrain-rmse:0.404198\tvalid-rmse:0.410653\n",
      "[220]\ttrain-rmse:0.402036\tvalid-rmse:0.408748\n",
      "[240]\ttrain-rmse:0.398699\tvalid-rmse:0.405708\n",
      "[260]\ttrain-rmse:0.396796\tvalid-rmse:0.404159\n",
      "[280]\ttrain-rmse:0.394708\tvalid-rmse:0.402237\n",
      "[300]\ttrain-rmse:0.392547\tvalid-rmse:0.400399\n",
      "[320]\ttrain-rmse:0.390423\tvalid-rmse:0.398468\n",
      "[340]\ttrain-rmse:0.389343\tvalid-rmse:0.39768\n",
      "[360]\ttrain-rmse:0.387652\tvalid-rmse:0.396311\n",
      "[380]\ttrain-rmse:0.386452\tvalid-rmse:0.39525\n",
      "[400]\ttrain-rmse:0.385349\tvalid-rmse:0.394317\n",
      "[420]\ttrain-rmse:0.383904\tvalid-rmse:0.393128\n",
      "[440]\ttrain-rmse:0.382653\tvalid-rmse:0.392045\n",
      "[460]\ttrain-rmse:0.381674\tvalid-rmse:0.39136\n",
      "[480]\ttrain-rmse:0.380837\tvalid-rmse:0.390883\n",
      "[500]\ttrain-rmse:0.379787\tvalid-rmse:0.390171\n",
      "[520]\ttrain-rmse:0.378933\tvalid-rmse:0.389473\n",
      "[540]\ttrain-rmse:0.377603\tvalid-rmse:0.388421\n",
      "[560]\ttrain-rmse:0.376325\tvalid-rmse:0.387156\n",
      "[580]\ttrain-rmse:0.37552\tvalid-rmse:0.386609\n",
      "[600]\ttrain-rmse:0.374376\tvalid-rmse:0.385728\n",
      "[620]\ttrain-rmse:0.373301\tvalid-rmse:0.38484\n",
      "[640]\ttrain-rmse:0.371996\tvalid-rmse:0.38362\n",
      "[660]\ttrain-rmse:0.371247\tvalid-rmse:0.383018\n",
      "[680]\ttrain-rmse:0.370546\tvalid-rmse:0.382559\n",
      "[700]\ttrain-rmse:0.369586\tvalid-rmse:0.381828\n",
      "[720]\ttrain-rmse:0.369006\tvalid-rmse:0.381426\n",
      "[740]\ttrain-rmse:0.368349\tvalid-rmse:0.381091\n",
      "[760]\ttrain-rmse:0.367122\tvalid-rmse:0.380138\n",
      "[780]\ttrain-rmse:0.366581\tvalid-rmse:0.379808\n",
      "[800]\ttrain-rmse:0.36583\tvalid-rmse:0.379302\n",
      "[820]\ttrain-rmse:0.365229\tvalid-rmse:0.378988\n",
      "[840]\ttrain-rmse:0.364604\tvalid-rmse:0.378507\n",
      "[860]\ttrain-rmse:0.363838\tvalid-rmse:0.377947\n",
      "[880]\ttrain-rmse:0.363\tvalid-rmse:0.377352\n",
      "[900]\ttrain-rmse:0.362336\tvalid-rmse:0.376911\n",
      "[920]\ttrain-rmse:0.361683\tvalid-rmse:0.376498\n",
      "[940]\ttrain-rmse:0.36091\tvalid-rmse:0.375969\n",
      "[960]\ttrain-rmse:0.360192\tvalid-rmse:0.375489\n",
      "[980]\ttrain-rmse:0.359768\tvalid-rmse:0.375365\n",
      "[1000]\ttrain-rmse:0.359344\tvalid-rmse:0.375135\n",
      "[1020]\ttrain-rmse:0.358912\tvalid-rmse:0.374867\n",
      "[1040]\ttrain-rmse:0.358418\tvalid-rmse:0.374567\n",
      "[1060]\ttrain-rmse:0.35797\tvalid-rmse:0.374486\n",
      "[1080]\ttrain-rmse:0.357389\tvalid-rmse:0.374078\n",
      "[1100]\ttrain-rmse:0.357014\tvalid-rmse:0.37401\n",
      "[1120]\ttrain-rmse:0.356509\tvalid-rmse:0.37374\n",
      "[1140]\ttrain-rmse:0.356057\tvalid-rmse:0.373484\n",
      "[1160]\ttrain-rmse:0.355332\tvalid-rmse:0.372956\n",
      "[1180]\ttrain-rmse:0.354886\tvalid-rmse:0.372771\n",
      "[1200]\ttrain-rmse:0.354431\tvalid-rmse:0.372487\n",
      "[1220]\ttrain-rmse:0.35395\tvalid-rmse:0.372269\n",
      "[1240]\ttrain-rmse:0.353538\tvalid-rmse:0.372103\n",
      "[1260]\ttrain-rmse:0.353141\tvalid-rmse:0.371921\n",
      "[1280]\ttrain-rmse:0.352675\tvalid-rmse:0.371769\n",
      "[1300]\ttrain-rmse:0.352353\tvalid-rmse:0.371732\n",
      "[1320]\ttrain-rmse:0.351939\tvalid-rmse:0.371472\n",
      "[1340]\ttrain-rmse:0.35137\tvalid-rmse:0.371076\n",
      "[1360]\ttrain-rmse:0.351059\tvalid-rmse:0.371008\n",
      "[1380]\ttrain-rmse:0.350455\tvalid-rmse:0.370552\n",
      "[1400]\ttrain-rmse:0.35001\tvalid-rmse:0.370246\n",
      "[1420]\ttrain-rmse:0.349762\tvalid-rmse:0.370135\n",
      "[1440]\ttrain-rmse:0.349326\tvalid-rmse:0.369943\n",
      "[1460]\ttrain-rmse:0.348689\tvalid-rmse:0.369488\n",
      "[1480]\ttrain-rmse:0.348369\tvalid-rmse:0.36942\n",
      "[1500]\ttrain-rmse:0.348145\tvalid-rmse:0.369357\n",
      "[1520]\ttrain-rmse:0.347806\tvalid-rmse:0.36922\n",
      "[1540]\ttrain-rmse:0.347392\tvalid-rmse:0.368979\n",
      "[1560]\ttrain-rmse:0.347145\tvalid-rmse:0.36894\n",
      "[1580]\ttrain-rmse:0.346923\tvalid-rmse:0.368906\n",
      "[1600]\ttrain-rmse:0.346696\tvalid-rmse:0.368833\n",
      "[1620]\ttrain-rmse:0.346028\tvalid-rmse:0.368381\n",
      "[1640]\ttrain-rmse:0.345749\tvalid-rmse:0.368327\n",
      "[1660]\ttrain-rmse:0.345467\tvalid-rmse:0.368226\n",
      "[1680]\ttrain-rmse:0.34498\tvalid-rmse:0.367956\n",
      "[1700]\ttrain-rmse:0.344649\tvalid-rmse:0.367867\n",
      "[1720]\ttrain-rmse:0.344256\tvalid-rmse:0.367632\n",
      "[1740]\ttrain-rmse:0.343978\tvalid-rmse:0.367544\n",
      "[1760]\ttrain-rmse:0.343615\tvalid-rmse:0.367359\n",
      "[1780]\ttrain-rmse:0.343412\tvalid-rmse:0.367268\n",
      "[1800]\ttrain-rmse:0.342973\tvalid-rmse:0.366996\n",
      "[1820]\ttrain-rmse:0.342697\tvalid-rmse:0.366842\n",
      "[1840]\ttrain-rmse:0.342399\tvalid-rmse:0.366666\n",
      "[1860]\ttrain-rmse:0.342137\tvalid-rmse:0.36658\n",
      "[1880]\ttrain-rmse:0.341889\tvalid-rmse:0.366492\n",
      "[1900]\ttrain-rmse:0.34151\tvalid-rmse:0.366237\n",
      "[1920]\ttrain-rmse:0.341067\tvalid-rmse:0.366005\n",
      "[1940]\ttrain-rmse:0.340821\tvalid-rmse:0.365942\n",
      "[1960]\ttrain-rmse:0.340522\tvalid-rmse:0.365879\n",
      "[1980]\ttrain-rmse:0.340223\tvalid-rmse:0.36577\n",
      "[2000]\ttrain-rmse:0.339958\tvalid-rmse:0.365702\n",
      "[2020]\ttrain-rmse:0.339795\tvalid-rmse:0.365664\n",
      "[2040]\ttrain-rmse:0.339488\tvalid-rmse:0.365517\n",
      "[2060]\ttrain-rmse:0.339231\tvalid-rmse:0.365402\n",
      "[2080]\ttrain-rmse:0.338952\tvalid-rmse:0.365278\n",
      "[2100]\ttrain-rmse:0.338613\tvalid-rmse:0.365093\n",
      "[2120]\ttrain-rmse:0.338335\tvalid-rmse:0.364968\n",
      "[2140]\ttrain-rmse:0.33805\tvalid-rmse:0.364837\n",
      "[2160]\ttrain-rmse:0.337737\tvalid-rmse:0.364643\n",
      "[2180]\ttrain-rmse:0.337491\tvalid-rmse:0.364578\n",
      "[2200]\ttrain-rmse:0.337262\tvalid-rmse:0.364539\n",
      "[2220]\ttrain-rmse:0.337023\tvalid-rmse:0.36448\n",
      "[2240]\ttrain-rmse:0.336777\tvalid-rmse:0.36439\n",
      "[2260]\ttrain-rmse:0.336508\tvalid-rmse:0.364288\n",
      "[2280]\ttrain-rmse:0.336179\tvalid-rmse:0.36412\n",
      "[2300]\ttrain-rmse:0.335953\tvalid-rmse:0.364059\n",
      "[2320]\ttrain-rmse:0.335711\tvalid-rmse:0.363939\n",
      "[2340]\ttrain-rmse:0.335483\tvalid-rmse:0.363867\n",
      "[2360]\ttrain-rmse:0.335259\tvalid-rmse:0.36377\n",
      "[2380]\ttrain-rmse:0.335083\tvalid-rmse:0.363743\n",
      "[2400]\ttrain-rmse:0.334804\tvalid-rmse:0.363646\n",
      "[2420]\ttrain-rmse:0.33462\tvalid-rmse:0.363635\n",
      "[2440]\ttrain-rmse:0.334388\tvalid-rmse:0.363553\n",
      "[2460]\ttrain-rmse:0.334153\tvalid-rmse:0.363492\n",
      "[2480]\ttrain-rmse:0.333903\tvalid-rmse:0.363387\n",
      "[2500]\ttrain-rmse:0.333737\tvalid-rmse:0.363317\n",
      "[2520]\ttrain-rmse:0.333504\tvalid-rmse:0.363221\n",
      "[2540]\ttrain-rmse:0.333296\tvalid-rmse:0.363178\n",
      "[2560]\ttrain-rmse:0.333097\tvalid-rmse:0.363162\n",
      "[2580]\ttrain-rmse:0.332887\tvalid-rmse:0.363098\n",
      "[2600]\ttrain-rmse:0.332721\tvalid-rmse:0.363038\n",
      "[2620]\ttrain-rmse:0.332531\tvalid-rmse:0.363008\n",
      "[2640]\ttrain-rmse:0.332252\tvalid-rmse:0.362878\n",
      "[2660]\ttrain-rmse:0.331955\tvalid-rmse:0.362733\n",
      "[2680]\ttrain-rmse:0.331659\tvalid-rmse:0.362545\n",
      "[2700]\ttrain-rmse:0.331434\tvalid-rmse:0.362441\n",
      "[2720]\ttrain-rmse:0.331232\tvalid-rmse:0.36235\n",
      "[2740]\ttrain-rmse:0.330934\tvalid-rmse:0.362201\n",
      "[2760]\ttrain-rmse:0.330765\tvalid-rmse:0.362151\n",
      "[2780]\ttrain-rmse:0.330609\tvalid-rmse:0.362111\n",
      "[2800]\ttrain-rmse:0.330267\tvalid-rmse:0.361963\n",
      "[2820]\ttrain-rmse:0.330104\tvalid-rmse:0.361941\n",
      "[2840]\ttrain-rmse:0.329889\tvalid-rmse:0.361897\n",
      "[2860]\ttrain-rmse:0.329701\tvalid-rmse:0.361842\n",
      "[2880]\ttrain-rmse:0.329512\tvalid-rmse:0.361777\n",
      "[2900]\ttrain-rmse:0.329311\tvalid-rmse:0.361689\n",
      "[2920]\ttrain-rmse:0.329043\tvalid-rmse:0.36153\n",
      "[2940]\ttrain-rmse:0.328894\tvalid-rmse:0.361514\n",
      "[2960]\ttrain-rmse:0.328713\tvalid-rmse:0.361523\n",
      "[2980]\ttrain-rmse:0.328548\tvalid-rmse:0.361509\n",
      "[3000]\ttrain-rmse:0.328337\tvalid-rmse:0.361415\n",
      "[3020]\ttrain-rmse:0.328194\tvalid-rmse:0.361404\n",
      "[3040]\ttrain-rmse:0.327976\tvalid-rmse:0.36131\n",
      "[3060]\ttrain-rmse:0.327779\tvalid-rmse:0.361275\n",
      "[3080]\ttrain-rmse:0.327606\tvalid-rmse:0.361235\n",
      "[3100]\ttrain-rmse:0.327376\tvalid-rmse:0.36111\n",
      "[3120]\ttrain-rmse:0.32722\tvalid-rmse:0.361091\n",
      "[3140]\ttrain-rmse:0.327063\tvalid-rmse:0.361046\n",
      "[3160]\ttrain-rmse:0.326838\tvalid-rmse:0.360964\n",
      "[3180]\ttrain-rmse:0.326678\tvalid-rmse:0.360944\n",
      "[3200]\ttrain-rmse:0.326502\tvalid-rmse:0.36091\n",
      "[3220]\ttrain-rmse:0.326194\tvalid-rmse:0.360685\n",
      "[3240]\ttrain-rmse:0.326033\tvalid-rmse:0.360656\n",
      "[3260]\ttrain-rmse:0.325882\tvalid-rmse:0.360639\n",
      "[3280]\ttrain-rmse:0.325712\tvalid-rmse:0.360603\n",
      "[3300]\ttrain-rmse:0.325565\tvalid-rmse:0.36058\n",
      "[3320]\ttrain-rmse:0.325382\tvalid-rmse:0.360579\n",
      "[3340]\ttrain-rmse:0.325225\tvalid-rmse:0.360545\n",
      "[3360]\ttrain-rmse:0.325086\tvalid-rmse:0.360503\n",
      "[3380]\ttrain-rmse:0.324918\tvalid-rmse:0.360463\n",
      "[3400]\ttrain-rmse:0.324714\tvalid-rmse:0.360383\n",
      "[3420]\ttrain-rmse:0.32456\tvalid-rmse:0.360355\n",
      "[3440]\ttrain-rmse:0.324385\tvalid-rmse:0.360324\n",
      "[3460]\ttrain-rmse:0.324229\tvalid-rmse:0.360276\n",
      "[3480]\ttrain-rmse:0.324047\tvalid-rmse:0.360225\n",
      "[3500]\ttrain-rmse:0.32392\tvalid-rmse:0.360201\n",
      "[3520]\ttrain-rmse:0.323788\tvalid-rmse:0.360185\n",
      "[3540]\ttrain-rmse:0.323635\tvalid-rmse:0.360165\n",
      "[3560]\ttrain-rmse:0.323484\tvalid-rmse:0.360154\n",
      "[3580]\ttrain-rmse:0.323341\tvalid-rmse:0.360136\n",
      "[3600]\ttrain-rmse:0.323175\tvalid-rmse:0.360125\n",
      "[3620]\ttrain-rmse:0.323006\tvalid-rmse:0.360079\n",
      "[3640]\ttrain-rmse:0.322858\tvalid-rmse:0.360049\n",
      "[3660]\ttrain-rmse:0.322711\tvalid-rmse:0.360033\n",
      "[3680]\ttrain-rmse:0.322559\tvalid-rmse:0.360008\n",
      "[3700]\ttrain-rmse:0.32241\tvalid-rmse:0.359994\n",
      "[3720]\ttrain-rmse:0.322278\tvalid-rmse:0.359993\n",
      "[3740]\ttrain-rmse:0.322146\tvalid-rmse:0.359981\n",
      "[3760]\ttrain-rmse:0.322033\tvalid-rmse:0.359968\n",
      "[3780]\ttrain-rmse:0.32188\tvalid-rmse:0.359921\n",
      "[3800]\ttrain-rmse:0.321749\tvalid-rmse:0.359903\n",
      "[3820]\ttrain-rmse:0.321553\tvalid-rmse:0.359808\n",
      "[3840]\ttrain-rmse:0.32143\tvalid-rmse:0.359782\n",
      "[3860]\ttrain-rmse:0.321277\tvalid-rmse:0.359782\n",
      "[3880]\ttrain-rmse:0.32113\tvalid-rmse:0.359746\n",
      "[3900]\ttrain-rmse:0.320992\tvalid-rmse:0.359702\n",
      "[3920]\ttrain-rmse:0.320866\tvalid-rmse:0.359673\n",
      "[3940]\ttrain-rmse:0.320704\tvalid-rmse:0.3596\n",
      "[3960]\ttrain-rmse:0.320581\tvalid-rmse:0.359578\n",
      "[3980]\ttrain-rmse:0.320448\tvalid-rmse:0.359532\n",
      "[4000]\ttrain-rmse:0.320271\tvalid-rmse:0.359495\n",
      "[4020]\ttrain-rmse:0.32018\tvalid-rmse:0.359506\n",
      "[4040]\ttrain-rmse:0.319991\tvalid-rmse:0.359421\n",
      "[4060]\ttrain-rmse:0.319851\tvalid-rmse:0.359376\n",
      "[4080]\ttrain-rmse:0.319741\tvalid-rmse:0.359373\n",
      "[4100]\ttrain-rmse:0.319638\tvalid-rmse:0.359362\n",
      "[4120]\ttrain-rmse:0.319513\tvalid-rmse:0.359357\n",
      "[4140]\ttrain-rmse:0.319351\tvalid-rmse:0.359298\n",
      "[4160]\ttrain-rmse:0.319226\tvalid-rmse:0.359245\n",
      "[4180]\ttrain-rmse:0.319094\tvalid-rmse:0.359243\n",
      "[4200]\ttrain-rmse:0.318953\tvalid-rmse:0.359189\n",
      "[4220]\ttrain-rmse:0.318851\tvalid-rmse:0.359158\n",
      "[4240]\ttrain-rmse:0.318703\tvalid-rmse:0.359116\n",
      "[4260]\ttrain-rmse:0.3186\tvalid-rmse:0.359099\n",
      "[4280]\ttrain-rmse:0.318449\tvalid-rmse:0.359041\n",
      "[4300]\ttrain-rmse:0.318317\tvalid-rmse:0.359038\n",
      "[4320]\ttrain-rmse:0.318189\tvalid-rmse:0.35902\n",
      "[4340]\ttrain-rmse:0.318088\tvalid-rmse:0.359014\n",
      "[4360]\ttrain-rmse:0.317938\tvalid-rmse:0.35895\n",
      "[4380]\ttrain-rmse:0.317831\tvalid-rmse:0.358932\n",
      "[4400]\ttrain-rmse:0.317711\tvalid-rmse:0.358925\n",
      "[4420]\ttrain-rmse:0.317563\tvalid-rmse:0.358888\n",
      "[4440]\ttrain-rmse:0.317425\tvalid-rmse:0.358843\n",
      "[4460]\ttrain-rmse:0.317285\tvalid-rmse:0.358824\n",
      "[4480]\ttrain-rmse:0.317154\tvalid-rmse:0.358785\n",
      "[4500]\ttrain-rmse:0.31703\tvalid-rmse:0.358791\n",
      "[4520]\ttrain-rmse:0.316911\tvalid-rmse:0.358753\n",
      "[4540]\ttrain-rmse:0.316802\tvalid-rmse:0.35874\n",
      "[4560]\ttrain-rmse:0.316643\tvalid-rmse:0.358665\n",
      "[4580]\ttrain-rmse:0.316522\tvalid-rmse:0.358663\n",
      "[4600]\ttrain-rmse:0.316387\tvalid-rmse:0.358628\n",
      "[4620]\ttrain-rmse:0.316275\tvalid-rmse:0.358623\n",
      "[4640]\ttrain-rmse:0.316141\tvalid-rmse:0.358616\n",
      "[4660]\ttrain-rmse:0.315993\tvalid-rmse:0.358564\n",
      "[4680]\ttrain-rmse:0.315891\tvalid-rmse:0.358569\n",
      "[4700]\ttrain-rmse:0.315737\tvalid-rmse:0.358528\n",
      "[4720]\ttrain-rmse:0.315622\tvalid-rmse:0.358504\n",
      "[4740]\ttrain-rmse:0.315511\tvalid-rmse:0.358479\n",
      "[4760]\ttrain-rmse:0.315363\tvalid-rmse:0.358437\n",
      "[4780]\ttrain-rmse:0.315234\tvalid-rmse:0.358389\n",
      "[4800]\ttrain-rmse:0.315102\tvalid-rmse:0.358371\n",
      "[4820]\ttrain-rmse:0.314984\tvalid-rmse:0.358335\n",
      "[4840]\ttrain-rmse:0.314874\tvalid-rmse:0.358338\n",
      "[4860]\ttrain-rmse:0.314719\tvalid-rmse:0.358283\n",
      "[4880]\ttrain-rmse:0.314588\tvalid-rmse:0.358234\n",
      "[4900]\ttrain-rmse:0.314441\tvalid-rmse:0.358186\n",
      "[4920]\ttrain-rmse:0.314303\tvalid-rmse:0.358138\n",
      "[4940]\ttrain-rmse:0.31416\tvalid-rmse:0.358087\n",
      "[4960]\ttrain-rmse:0.314067\tvalid-rmse:0.35808\n",
      "[4980]\ttrain-rmse:0.313955\tvalid-rmse:0.358055\n",
      "[5000]\ttrain-rmse:0.313835\tvalid-rmse:0.358017\n",
      "[5020]\ttrain-rmse:0.313733\tvalid-rmse:0.358016\n",
      "[5040]\ttrain-rmse:0.313633\tvalid-rmse:0.357988\n",
      "[5060]\ttrain-rmse:0.313509\tvalid-rmse:0.357965\n",
      "[5080]\ttrain-rmse:0.313397\tvalid-rmse:0.357924\n",
      "[5100]\ttrain-rmse:0.313302\tvalid-rmse:0.357927\n",
      "[5120]\ttrain-rmse:0.313154\tvalid-rmse:0.357877\n",
      "[5140]\ttrain-rmse:0.313047\tvalid-rmse:0.357864\n",
      "[5160]\ttrain-rmse:0.312914\tvalid-rmse:0.357833\n",
      "[5180]\ttrain-rmse:0.312811\tvalid-rmse:0.357815\n",
      "[5200]\ttrain-rmse:0.312683\tvalid-rmse:0.357772\n",
      "[5220]\ttrain-rmse:0.312594\tvalid-rmse:0.357782\n",
      "[5240]\ttrain-rmse:0.312496\tvalid-rmse:0.35778\n",
      "[5260]\ttrain-rmse:0.312359\tvalid-rmse:0.357787\n",
      "[5280]\ttrain-rmse:0.312238\tvalid-rmse:0.35776\n",
      "[5300]\ttrain-rmse:0.312132\tvalid-rmse:0.357743\n",
      "[5320]\ttrain-rmse:0.312001\tvalid-rmse:0.357727\n",
      "[5340]\ttrain-rmse:0.311896\tvalid-rmse:0.357693\n",
      "[5360]\ttrain-rmse:0.311793\tvalid-rmse:0.357685\n",
      "[5380]\ttrain-rmse:0.311669\tvalid-rmse:0.357656\n",
      "[5400]\ttrain-rmse:0.311553\tvalid-rmse:0.357628\n",
      "[5420]\ttrain-rmse:0.311438\tvalid-rmse:0.357618\n",
      "[5440]\ttrain-rmse:0.311335\tvalid-rmse:0.357616\n",
      "[5460]\ttrain-rmse:0.311223\tvalid-rmse:0.357587\n",
      "[5480]\ttrain-rmse:0.311131\tvalid-rmse:0.357584\n",
      "[5500]\ttrain-rmse:0.311009\tvalid-rmse:0.357554\n",
      "[5520]\ttrain-rmse:0.310885\tvalid-rmse:0.357544\n",
      "[5540]\ttrain-rmse:0.310771\tvalid-rmse:0.357533\n",
      "[5560]\ttrain-rmse:0.310641\tvalid-rmse:0.357492\n",
      "[5580]\ttrain-rmse:0.310525\tvalid-rmse:0.357505\n",
      "[5600]\ttrain-rmse:0.310377\tvalid-rmse:0.357464\n",
      "[5620]\ttrain-rmse:0.310264\tvalid-rmse:0.35744\n",
      "[5640]\ttrain-rmse:0.310132\tvalid-rmse:0.357392\n",
      "[5660]\ttrain-rmse:0.310061\tvalid-rmse:0.357391\n",
      "[5680]\ttrain-rmse:0.309978\tvalid-rmse:0.357384\n",
      "[5700]\ttrain-rmse:0.309857\tvalid-rmse:0.357374\n",
      "[5720]\ttrain-rmse:0.30975\tvalid-rmse:0.357363\n",
      "[5740]\ttrain-rmse:0.309662\tvalid-rmse:0.35737\n",
      "[5760]\ttrain-rmse:0.309575\tvalid-rmse:0.357357\n",
      "[5780]\ttrain-rmse:0.309469\tvalid-rmse:0.357331\n",
      "[5800]\ttrain-rmse:0.309344\tvalid-rmse:0.3573\n",
      "[5820]\ttrain-rmse:0.309248\tvalid-rmse:0.357308\n",
      "[5840]\ttrain-rmse:0.309147\tvalid-rmse:0.357296\n",
      "[5860]\ttrain-rmse:0.309055\tvalid-rmse:0.357284\n",
      "[5880]\ttrain-rmse:0.308963\tvalid-rmse:0.357271\n",
      "[5900]\ttrain-rmse:0.30886\tvalid-rmse:0.357257\n",
      "[5920]\ttrain-rmse:0.308771\tvalid-rmse:0.357237\n",
      "[5940]\ttrain-rmse:0.308657\tvalid-rmse:0.357209\n",
      "[5960]\ttrain-rmse:0.308556\tvalid-rmse:0.357199\n",
      "[5980]\ttrain-rmse:0.308461\tvalid-rmse:0.357199\n",
      "[6000]\ttrain-rmse:0.308364\tvalid-rmse:0.357171\n",
      "[6020]\ttrain-rmse:0.30825\tvalid-rmse:0.35714\n",
      "[6040]\ttrain-rmse:0.308148\tvalid-rmse:0.357121\n",
      "[6060]\ttrain-rmse:0.308049\tvalid-rmse:0.357123\n",
      "[6080]\ttrain-rmse:0.307945\tvalid-rmse:0.357113\n",
      "[6100]\ttrain-rmse:0.307858\tvalid-rmse:0.357084\n",
      "[6120]\ttrain-rmse:0.307758\tvalid-rmse:0.357061\n",
      "[6140]\ttrain-rmse:0.307668\tvalid-rmse:0.357047\n",
      "[6160]\ttrain-rmse:0.307558\tvalid-rmse:0.357017\n",
      "[6180]\ttrain-rmse:0.307438\tvalid-rmse:0.357017\n",
      "[6200]\ttrain-rmse:0.307327\tvalid-rmse:0.357011\n",
      "[6220]\ttrain-rmse:0.307227\tvalid-rmse:0.356997\n",
      "[6240]\ttrain-rmse:0.307142\tvalid-rmse:0.357003\n",
      "[6260]\ttrain-rmse:0.307055\tvalid-rmse:0.356995\n",
      "[6280]\ttrain-rmse:0.306934\tvalid-rmse:0.356949\n",
      "[6300]\ttrain-rmse:0.306819\tvalid-rmse:0.356931\n",
      "[6320]\ttrain-rmse:0.306744\tvalid-rmse:0.356935\n",
      "[6340]\ttrain-rmse:0.306646\tvalid-rmse:0.35691\n",
      "[6360]\ttrain-rmse:0.306554\tvalid-rmse:0.356897\n",
      "[6380]\ttrain-rmse:0.306468\tvalid-rmse:0.356893\n",
      "[6400]\ttrain-rmse:0.306384\tvalid-rmse:0.356867\n",
      "[6420]\ttrain-rmse:0.306294\tvalid-rmse:0.356872\n",
      "[6440]\ttrain-rmse:0.306177\tvalid-rmse:0.356857\n",
      "[6460]\ttrain-rmse:0.306078\tvalid-rmse:0.356855\n",
      "[6480]\ttrain-rmse:0.305968\tvalid-rmse:0.35683\n",
      "[6500]\ttrain-rmse:0.305862\tvalid-rmse:0.356795\n",
      "[6520]\ttrain-rmse:0.305782\tvalid-rmse:0.356807\n",
      "[6540]\ttrain-rmse:0.30569\tvalid-rmse:0.356799\n",
      "[6560]\ttrain-rmse:0.305599\tvalid-rmse:0.356789\n",
      "[6580]\ttrain-rmse:0.305502\tvalid-rmse:0.3568\n",
      "[6600]\ttrain-rmse:0.305422\tvalid-rmse:0.356798\n",
      "Stopping. Best iteration:\n",
      "[6555]\ttrain-rmse:0.305624\tvalid-rmse:0.356783\n",
      "\n",
      "Modelling RMSE 0.35678\n"
     ]
    }
   ],
   "source": [
    "xgb_params = {}\n",
    "xgb_params[\"objective\"] = \"reg:linear\"\n",
    "xgb_params[\"eval_metric\"] = \"rmse\"\n",
    "xgb_params[\"eta\"] = 0.05\n",
    "xgb_params[\"min_child_weight\"] = 10\n",
    "xgb_params[\"subsample\"] = 0.9\n",
    "xgb_params[\"colsample_bytree\"] = 0.7\n",
    "xgb_params[\"max_depth\"] = 5\n",
    "xgb_params[\"silent\"] = 1\n",
    "xgb_params[\"seed\"] = 2019\n",
    "xgb_params[\"nthread\"] = -1\n",
    "xgb_params[\"lambda\"] = 2\n",
    "\n",
    "xgb_model = xgb.train(xgb_params, dtrain, 10000, watchlist, early_stopping_rounds=50,maximize=False, verbose_eval=20)\n",
    "print('Modelling RMSE %.5f' % xgb_model.best_score)"
   ]
  },
  {
   "cell_type": "code",
   "execution_count": 27,
   "metadata": {},
   "outputs": [
    {
     "data": {
      "text/plain": [
       "<matplotlib.axes._subplots.AxesSubplot at 0x26e019d4908>"
      ]
     },
     "execution_count": 27,
     "metadata": {},
     "output_type": "execute_result"
    },
    {
     "data": {
      "image/png": "[encoded data removed]",
      "text/plain": [
       "<Figure size 432x288 with 1 Axes>"
      ]
     },
     "metadata": {
      "needs_background": "light"
     },
     "output_type": "display_data"
    }
   ],
   "source": [
    "xgb.plot_importance(xgb_model, height=0.7)"
   ]
  },
  {
   "cell_type": "code",
   "execution_count": 28,
   "metadata": {},
   "outputs": [
    {
     "name": "stdout",
     "output_type": "stream",
     "text": [
      "\n",
      "1 of kfold 5\n",
      "Train RMSE: 0.43492Valid RMSE: 0.43218\n",
      "\n",
      "2 of kfold 5\n",
      "Train RMSE: 0.43439Valid RMSE: 0.43397\n",
      "\n",
      "3 of kfold 5\n",
      "Train RMSE: 0.43511Valid RMSE: 0.44201\n",
      "\n",
      "4 of kfold 5\n",
      "Train RMSE: 0.43435Valid RMSE: 0.43549\n",
      "\n",
      "5 of kfold 5\n",
      "Train RMSE: 0.43566Valid RMSE: 0.43660\n"
     ]
    }
   ],
   "source": [
    "xgb_params['num_round']=xgb_model.best_iteration\n",
    "xgb_model_final = xgb.XGBRegressor()\n",
    "xgb_score = cv_score(xgb_model_final)"
   ]
  },
  {
   "cell_type": "code",
   "execution_count": 33,
   "metadata": {},
   "outputs": [],
   "source": [
    "def cv_score_avg(ml_model_1, ml_model_2, w1=0.5, w2=0.5,rstate=12,cols=df.columns):\n",
    "    i=1\n",
    "    cv_scores=[]\n",
    "    df1=df.copy()\n",
    "    df1=df[cols]\n",
    "    \n",
    "    kf=KFold(n_splits=5,random_state=rstate,shuffle=True)\n",
    "    for train_index,test_index in kf.split(df1,df_y):\n",
    "        print('\\n{} of kfold {}'.format(i,kf.n_splits))\n",
    "        xtr,xvl = df1.loc[train_index],df1.loc[test_index]\n",
    "        ytr,yvl = df_y[train_index],df_y[test_index]\n",
    "        \n",
    "        model=ml_model_1\n",
    "        ml_model_1.fit(xtr,ytr)\n",
    "        pred_val_1 = ml_model_1.predict(xvl)\n",
    "        \n",
    "        model = ml_model_2\n",
    "        ml_model_2.fit(xtr,ytr)\n",
    "        pred_val_2 = ml_model_2.predict(xvl)\n",
    "        \n",
    "        final_pred = (pred_val_1*w1 + pred_val_2*w2)\n",
    "        \n",
    "        rmse_score = sqrt(mean_squared_error(yvl,final_pred))\n",
    "        \n",
    "        suffix = \"\"\n",
    "        msg = \"\"\n",
    "        \n",
    "        msg += \"Valid RMSE: {:.5f}\".format(rmse_score)\n",
    "        print(\"{}\".format(msg))\n",
    "        \n",
    "        cv_scores.append(rmse_score)\n",
    "        i+=1\n",
    "    return cv_scores    "
   ]
  },
  {
   "cell_type": "code",
   "execution_count": 34,
   "metadata": {},
   "outputs": [
    {
     "name": "stdout",
     "output_type": "stream",
     "text": [
      "\n",
      "1 of kfold 5\n",
      "Valid RMSE: 0.42561\n",
      "\n",
      "2 of kfold 5\n",
      "Valid RMSE: 0.42856\n",
      "\n",
      "3 of kfold 5\n",
      "Valid RMSE: 0.43404\n",
      "\n",
      "4 of kfold 5\n",
      "Valid RMSE: 0.42821\n",
      "\n",
      "5 of kfold 5\n",
      "Valid RMSE: 0.42924\n"
     ]
    }
   ],
   "source": [
    "avg_scores = cv_score_avg(xgb_model_final, RandomForestRegressor(**rf_params),w1=0.4,w2=0.6)"
   ]
  },
  {
   "cell_type": "code",
   "execution_count": 36,
   "metadata": {},
   "outputs": [],
   "source": [
    "xgb_model = xgb.XGBRegressor(**xgb_params)\n",
    "rf_model = RandomForestRegressor(**rf_params)"
   ]
  },
  {
   "cell_type": "code",
   "execution_count": 38,
   "metadata": {},
   "outputs": [],
   "source": [
    "from mlxtend.regressor import StackingCVRegressor\n",
    "\n",
    "stacked_model = StackingCVRegressor(\n",
    "    regressors=[xgb_model, rf_model],\n",
    "    meta_regressor = Ridge())"
   ]
  },
  {
   "cell_type": "code",
   "execution_count": 39,
   "metadata": {},
   "outputs": [
    {
     "name": "stdout",
     "output_type": "stream",
     "text": [
      "\n",
      "1 of kfold 5\n",
      "Train RMSE: 0.40991Valid RMSE: 0.40832\n",
      "\n",
      "2 of kfold 5\n",
      "Train RMSE: 0.41144Valid RMSE: 0.41306\n",
      "\n",
      "3 of kfold 5\n",
      "Train RMSE: 0.40602Valid RMSE: 0.41210\n",
      "\n",
      "4 of kfold 5\n",
      "Train RMSE: 0.40619Valid RMSE: 0.40704\n",
      "\n",
      "5 of kfold 5\n",
      "Train RMSE: 0.40897Valid RMSE: 0.41132\n"
     ]
    }
   ],
   "source": [
    "stacking_scores = cv_score(stacked_model)"
   ]
  },
  {
   "cell_type": "code",
   "execution_count": 41,
   "metadata": {},
   "outputs": [
    {
     "data": {
      "text/plain": [
       "<matplotlib.axes._subplots.AxesSubplot at 0x26e22881588>"
      ]
     },
     "execution_count": 41,
     "metadata": {},
     "output_type": "execute_result"
    },
    {
     "data": {
      "image/png": "[encoded data removed]",
      "text/plain": [
       "<Figure size 432x288 with 1 Axes>"
      ]
     },
     "metadata": {
      "needs_background": "light"
     },
     "output_type": "display_data"
    }
   ],
   "source": [
    "results_df=pd.DataFrame({'RF':rf_scores,'XGB':xgb_score,'Average':avg_scores,'Stacking':stacking_scores})\n",
    "results_df.plot(y=[\"RF\",\"XGB\",\"Average\",\"Stacking\"],kind=\"bar\")"
   ]
  },
  {
   "cell_type": "code",
   "execution_count": null,
   "metadata": {},
   "outputs": [],
   "source": []
  }
 ],
 "metadata": {
  "kernelspec": {
   "display_name": "Python 3",
   "language": "python",
   "name": "python3"
  },
  "language_info": {
   "codemirror_mode": {
    "name": "ipython",
    "version": 3
   },
   "file_extension": ".py",
   "mimetype": "text/x-python",
   "name": "python",
   "nbconvert_exporter": "python",
   "pygments_lexer": "ipython3",
   "version": "3.7.3"
  }
 },
 "nbformat": 4,
 "nbformat_minor": 2
}
